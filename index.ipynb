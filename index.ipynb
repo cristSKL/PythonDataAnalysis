{
 "cells": [
  {
   "cell_type": "code",
   "execution_count": null,
   "id": "d2f137dd",
   "metadata": {},
   "outputs": [],
   "source": [
    "# Goal\n",
    "# 1. Investigate top-paying roles and skills in the data science industry.\n",
    "# 2. use Python to explore a real-live dataset on job postings.\n",
    "# 3. for job-seekers: use these insight to help find the best job opportunities.\n",
    "\n",
    "# Final deliverables:\n",
    "# 1. Create Jupyter Notebookss (showcasing core skills in python).\n",
    "# 2. Craete a summary page (via README md) capturing your findings\n",
    "# 3. share this project via GitHub & Linkedin."
   ]
  }
 ],
 "metadata": {
  "language_info": {
   "name": "python"
  }
 },
 "nbformat": 4,
 "nbformat_minor": 5
}
