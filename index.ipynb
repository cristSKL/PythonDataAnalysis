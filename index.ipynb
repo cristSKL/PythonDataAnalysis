{
 "cells": [
  {
   "cell_type": "code",
   "execution_count": null,
   "id": "d2f137dd",
   "metadata": {},
   "outputs": [
    {
     "name": "stderr",
     "output_type": "stream",
     "text": [
      "c:\\Users\\crist\\miniconda3\\envs\\training\\Lib\\site-packages\\tqdm\\auto.py:21: TqdmWarning: IProgress not found. Please update jupyter and ipywidgets. See https://ipywidgets.readthedocs.io/en/stable/user_install.html\n",
      "  from .autonotebook import tqdm as notebook_tqdm\n"
     ]
    }
   ],
   "source": [
    "# Goal\n",
    "# 1. Investigate top-paying roles and skills in the data science industry.\n",
    "# 2. use Python to explore a real-live dataset on job postings.\n",
    "# 3. for job-seekers: use these insight to help find the best job opportunities.\n",
    "\n",
    "# Final deliverables:\n",
    "# 1. Create Jupyter Notebookss (showcasing core skills in python).\n",
    "# 2. Craete a summary page (via README md) capturing your findings\n",
    "# 3. share this project via GitHub & Linkedin.\n",
    "\n",
    "# Questions to Answer\n",
    "# 1. what are the most demanded skills for the top 3 most popular data roles?gi\n",
    "# 2. How are in-demand skills trending for Data Analysts?\n",
    "# 3. How well do jobs and skills pay for Data Analysts?\n",
    "# 4. what is the most optimal skill to learn for Data Analysts? (High Demand and good paying)\n",
    "\n",
    "# Methodology for project number 2\n",
    "# 1. clean-up skill column\n",
    "# 2. calcualate skill count based on job_title_short\n",
    "# 3. calculate skill percentage\n",
    "# 4. plot final findings\n",
    "\n",
    "# Methodology for project number 3\n",
    "# 1. aggregate skill counts monthly\n",
    "# 2. Re-analyze based on percentage of total jobs\n",
    "# 3. Plot the monthly skill demand\n",
    "\n"
   ]
  }
 ],
 "metadata": {
  "kernelspec": {
   "display_name": "Python 3",
   "language": "python",
   "name": "python3"
  },
  "language_info": {
   "codemirror_mode": {
    "name": "ipython",
    "version": 3
   },
   "file_extension": ".py",
   "mimetype": "text/x-python",
   "name": "python",
   "nbconvert_exporter": "python",
   "pygments_lexer": "ipython3",
   "version": "3.13.2"
  }
 },
 "nbformat": 4,
 "nbformat_minor": 5
}
